{
  "cells": [
    {
      "cell_type": "code",
      "execution_count": 1,
      "metadata": {
        "id": "zxEQ6G47HyLv"
      },
      "outputs": [],
      "source": [
        "import re\n",
        "from bs4 import BeautifulSoup\n",
        "import requests\n",
        "import pandas as pd\n",
        "import time\n",
        "import random"
      ]
    },
    {
      "cell_type": "markdown",
      "metadata": {
        "id": "nIezuc4hIdai"
      },
      "source": [
        "# Dataset Scraping"
      ]
    },
    {
      "cell_type": "markdown",
      "metadata": {
        "id": "-XVNrrqyIMg5"
      },
      "source": [
        "## First Step:\n",
        "- Write a function that creates a table of all the matches that have been played in the period under investigation\n",
        "- Extract the relevant info"
      ]
    },
    {
      "cell_type": "code",
      "execution_count": 2,
      "metadata": {
        "id": "XiFc9-PFH3kl"
      },
      "outputs": [],
      "source": [
        "# Getting the match data for a single season\n",
        "\n",
        "\n",
        "def get_matches_in_season(season, league):\n",
        "\n",
        "    match_data = pd.DataFrame(columns=['Date', 'Home Team', 'Home XG', 'Score',\n",
        "                                  'Away XG', 'Away Team', 'Attendance', 'Match Link'])\n",
        "\n",
        "    for s in season:\n",
        "\n",
        "        url = f\"https://fbref.com/en/comps/20/{s[0]}-{s[1]}/schedule/{s[0]}-{s[1]}-{league}-Scores-and-Fixtures\"\n",
        "        print(url)\n",
        "        response = requests.get(url)\n",
        "        if response.status_code == 200:\n",
        "            result = BeautifulSoup(response.content, \"lxml\")\n",
        "\n",
        "            matches = result.find('tbody').find_all('tr')\n",
        "\n",
        "\n",
        "\n",
        "            counter = len(match_data)\n",
        "\n",
        "            for match in matches:\n",
        "\n",
        "                try:\n",
        "                    # Add code to make this date-time\n",
        "                    match_data.loc[counter,'Date'] = match.find('td', {'data-stat':'date'}).get_text()\n",
        "\n",
        "                    match_data.loc[counter,'Home Team'] = match.find('td', {'data-stat':'home_team'}).get_text()\n",
        "\n",
        "                    match_data.loc[counter,'Home XG'] = match.find('td', {'data-stat':'home_xg'}).get_text()\n",
        "\n",
        "                    match_data.loc[counter,'Score'] = match.find('td', {'data-stat':'score'}).get_text()\n",
        "\n",
        "                    match_data.loc[counter,'Away XG'] = match.find('td', {'data-stat':'away_xg'}).get_text()\n",
        "\n",
        "                    match_data.loc[counter,'Away Team'] = match.find('td', {'data-stat':'away_team'}).get_text()\n",
        "\n",
        "                    match_data.loc[counter,'Attendance'] = match.find('td', {'data-stat':'attendance'}).get_text()\n",
        "\n",
        "                    # The Match Link can later also function as ID\n",
        "                    match_data.loc[counter,'Match Link'] = match.find('td', {'data-stat':'match_report'}).find('a').get('href')\n",
        "\n",
        "                    #Store the outcome variable (winner)\n",
        "                    outcome = list(map(int, match_data.loc[counter, 'Score'].strip().split('–')))\n",
        "                    if outcome[0]>outcome[1]:\n",
        "                        match_data.loc[counter,'Outcome'] = 2\n",
        "                    elif outcome[1]>outcome[0]:\n",
        "                         match_data.loc[counter,'Outcome'] = 0\n",
        "                    else:\n",
        "                        match_data.loc[counter,'Outcome'] = 1\n",
        "\n",
        "                    counter += 1\n",
        "                except:\n",
        "\n",
        "                    continue\n",
        "        else:\n",
        "            print(f'Match data season {s[0]}-{s[1]} could not be loaded: Request failed')\n",
        "\n",
        "        if league == \"Bundesliga\" and len(match_data)%306 != 0:\n",
        "\n",
        "            match_data = match_data.iloc[:(len(match_data)-2),:]\n",
        "\n",
        "    return match_data"
      ]
    },
    {
      "cell_type": "markdown",
      "metadata": {
        "id": "rSUVQ4bDJEZQ"
      },
      "source": [
        "## Second Step\n",
        "- Function that for each match gets and stores all the player information\n",
        "- SO basically we get the table with the player performances here"
      ]
    },
    {
      "cell_type": "code",
      "execution_count": 3,
      "metadata": {
        "id": "TBLtYipqIgq5"
      },
      "outputs": [],
      "source": [
        "def get_player_per_game_info(matches):\n",
        "\n",
        "    player_per_game = pd.DataFrame()\n",
        "\n",
        "    for match_nr in range(len(matches)):\n",
        "\n",
        "        print(match_nr)\n",
        "\n",
        "        game = matches.loc[match_nr,'Match Link']\n",
        "\n",
        "        match_page_url = f'https://fbref.com/{game}'\n",
        "\n",
        "        if match_nr % 15 == 0:\n",
        "            wait_time = random.uniform(100, 180)\n",
        "            time.sleep(wait_time)\n",
        "\n",
        "        response = requests.get(match_page_url)\n",
        "\n",
        "        while response.status_code != 200:\n",
        "            print('In Jail')\n",
        "            print(len(player_per_game))\n",
        "            time.sleep(3660)\n",
        "            response = requests.get(match_page_url)\n",
        "\n",
        "        result = BeautifulSoup(response.content, \"lxml\")\n",
        "\n",
        "        stats_table = result.find('div',{'id':'content'}).find_all('div', {'class':'table_wrapper tabbed'})\n",
        "\n",
        "        away_counter = 0\n",
        "\n",
        "        for table_body in stats_table[:2]:\n",
        "\n",
        "            table_collection = table_body.find_all('table')\n",
        "\n",
        "            temp_list = []\n",
        "\n",
        "            for table in table_collection:\n",
        "\n",
        "                counter = 0\n",
        "\n",
        "                temp_df = pd.DataFrame()\n",
        "\n",
        "                for row in table.find('tbody').find_all('tr'):\n",
        "\n",
        "                    temp_df.loc[counter,'Match ID'] = matches.loc[match_nr,'Match Link']\n",
        "\n",
        "                    if away_counter:\n",
        "\n",
        "                        temp_df.loc[counter,'Team'] = matches.loc[match_nr,'Away Team']\n",
        "\n",
        "                    else:\n",
        "\n",
        "                        temp_df.loc[counter,'Team'] = matches.loc[match_nr,'Home Team']\n",
        "\n",
        "                    temp_df.loc[counter,'Date'] = matches.loc[match_nr,'Date']\n",
        "\n",
        "                    temp_df.loc[counter,'Link'] = row.find('th').find('a').get('href')\n",
        "\n",
        "                    for stat in row:\n",
        "                        try:\n",
        "                            temp_df.loc[counter,stat.get('data-stat')] = stat.get_text()\n",
        "                        except:\n",
        "                            temp_df.loc[counter,stat.get('data-stat')] = stat.get_text()\n",
        "\n",
        "                    counter +=1\n",
        "\n",
        "                temp_list.append(temp_df)\n",
        "\n",
        "            temp_list = [df.set_index(['Link', 'Date']) for df in temp_list]\n",
        "\n",
        "            final_table = temp_list[0]\n",
        "\n",
        "            for tbl in temp_list[1:]:\n",
        "                cols_to_use = tbl.columns.difference(final_table.columns)\n",
        "\n",
        "                final_table = pd.merge(final_table, tbl[cols_to_use], left_index=True, right_index=True, how='outer')\n",
        "\n",
        "            if len(player_per_game) == 0:\n",
        "\n",
        "                player_per_game = final_table\n",
        "\n",
        "            else:\n",
        "\n",
        "                player_per_game = pd.concat([player_per_game,final_table],axis=0)\n",
        "\n",
        "            away_counter += 1\n",
        "\n",
        "    return player_per_game"
      ]
    },
    {
      "cell_type": "markdown",
      "metadata": {
        "id": "kfyIlRXHJV6w"
      },
      "source": [
        "## Third Step: Creating the Test-Set\n",
        "- Based on the player database, we go over all the matches and take the aggreagted expected stats based on the player data before the game happened\n",
        "  - So if we look at a Match of Manchester City in January 2024, we compute what would have been the expected goals etc. for that match based on the players in the line-up and by aggregating across their averages\n",
        "- I also introduced the opportunity to set a window for \"form\", adding the stats across only the last five games"
      ]
    },
    {
      "cell_type": "code",
      "execution_count": 4,
      "metadata": {
        "id": "pMR70jpXI7ab"
      },
      "outputs": [],
      "source": [
        "def create_final_set(player_per_game, match_data, window=5):\n",
        "    player_per_game.iloc[:,8:] = player_per_game.iloc[:, 8:].apply(pd.to_numeric, errors='coerce')\n",
        "    player_per_game['Date_col'] = player_per_game.index.get_level_values('Date')\n",
        "    player_per_game[\"Date_col\"] = pd.to_datetime(player_per_game[\"Date_col\"])\n",
        "    match_data['Date'] = pd.to_datetime(match_data['Date'])\n",
        "\n",
        "\n",
        "    for matchnr in range(len(match_data)):\n",
        "        print(matchnr)\n",
        "\n",
        "        player_per_game['Link'] = player_per_game.index.get_level_values('Link')\n",
        "\n",
        "        # Get all the players that have played in the game (all the rows of the stats too)\n",
        "        players_in_game = player_per_game[player_per_game['Match ID']==match_data.loc[matchnr,'Match Link']][['Link', 'Team']]\n",
        "\n",
        "        #\n",
        "        home_team = players_in_game[players_in_game['Team']==match_data.loc[matchnr,'Home Team']]['Link']\n",
        "\n",
        "        away_team = players_in_game[players_in_game['Team']==match_data.loc[matchnr,'Away Team']]['Link']\n",
        "\n",
        "        home_agg_data_general = player_per_game[player_per_game['Link'].isin(home_team)]\n",
        "\n",
        "        home_agg_data_general = home_agg_data_general.iloc[:, 8:]\n",
        "\n",
        "        home_agg_final_set = home_agg_data_general[home_agg_data_general['Date_col']<match_data.loc[matchnr,'Date']].iloc[:,:95]\n",
        "        ## Home Team\n",
        "        #Find columns for Home Total\n",
        "        #print(home_agg_final_set)\n",
        "        agg_total_home = home_agg_final_set.groupby(level='Link').mean()\n",
        "\n",
        "        col_means_home_tot = agg_total_home.apply(lambda x: x.sum(), axis=0)\n",
        "\n",
        "        #Find columns for last 5 home\n",
        "        agg_five_home = home_agg_final_set.groupby(level='Link').tail(window)\n",
        "\n",
        "        agg_five_home = agg_five_home.groupby(level='Link').mean()\n",
        "\n",
        "        col_means_home_five = agg_five_home.apply(lambda x: x.sum(), axis = 0)\n",
        "\n",
        "        ## Away Team\n",
        "        away_agg_data_general = player_per_game[player_per_game['Link'].isin(away_team)]\n",
        "\n",
        "        away_agg_data_general = away_agg_data_general.iloc[:, 8:]\n",
        "\n",
        "        away_agg_final_set = away_agg_data_general[away_agg_data_general['Date_col']<match_data.loc[matchnr,'Date']].iloc[:,:95]\n",
        "\n",
        "        #Find columns for Away Total\n",
        "        agg_total_away = away_agg_final_set.groupby(level='Link').mean()\n",
        "\n",
        "        col_means_away_tot = agg_total_away.apply(lambda x: x.sum(), axis=0)\n",
        "\n",
        "        #Find columns for last 5 away\n",
        "        agg_five_away = away_agg_final_set.groupby(level='Link').tail(window)\n",
        "\n",
        "        agg_five_away = agg_five_away.groupby(level='Link').mean()\n",
        "\n",
        "        col_means_away_five = agg_five_away.apply(lambda x: x.sum(), axis = 0)\n",
        "\n",
        "        #Add data to match dataset\n",
        "        for header in col_means_home_tot.index:\n",
        "\n",
        "            header_lbl = f\"Home_Tot_{header}\"\n",
        "            match_data.loc[matchnr,header_lbl] = col_means_home_tot[header]\n",
        "\n",
        "            header_lbl = f\"Away_Tot_{header}\"\n",
        "            match_data.loc[matchnr,header_lbl] = col_means_away_tot[header]\n",
        "\n",
        "            header_lbl = f\"Home_Five_{header}\"\n",
        "            match_data.loc[matchnr,header_lbl] = col_means_home_five[header]\n",
        "\n",
        "            header_lbl = f\"Away_Five_{header}\"\n",
        "            match_data.loc[matchnr,header_lbl] = col_means_home_five[header]\n",
        "    return match_data"
      ]
    },
    {
      "cell_type": "code",
      "execution_count": 5,
      "metadata": {
        "colab": {
          "base_uri": "https://localhost:8080/",
          "height": 332
        },
        "id": "BcdQuI8CKJ5g",
        "outputId": "dfdb6f95-40be-4c97-d01c-8a523d6aa5d2"
      },
      "outputs": [
        {
          "output_type": "error",
          "ename": "KeyboardInterrupt",
          "evalue": "",
          "traceback": [
            "\u001b[0;31m---------------------------------------------------------------------------\u001b[0m",
            "\u001b[0;31mKeyboardInterrupt\u001b[0m                         Traceback (most recent call last)",
            "\u001b[0;32m<ipython-input-5-a42f17c9277b>\u001b[0m in \u001b[0;36m<cell line: 7>\u001b[0;34m()\u001b[0m\n\u001b[1;32m      5\u001b[0m \u001b[0mmatch_data\u001b[0m \u001b[0;34m=\u001b[0m \u001b[0mget_matches_in_season\u001b[0m\u001b[0;34m(\u001b[0m\u001b[0mseasons\u001b[0m\u001b[0;34m,\u001b[0m \u001b[0mleague\u001b[0m\u001b[0;34m)\u001b[0m\u001b[0;34m\u001b[0m\u001b[0;34m\u001b[0m\u001b[0m\n\u001b[1;32m      6\u001b[0m \u001b[0;34m\u001b[0m\u001b[0m\n\u001b[0;32m----> 7\u001b[0;31m \u001b[0mplayer_per_game\u001b[0m \u001b[0;34m=\u001b[0m \u001b[0mget_player_per_game_info\u001b[0m\u001b[0;34m(\u001b[0m\u001b[0mmatch_data\u001b[0m\u001b[0;34m)\u001b[0m\u001b[0;34m\u001b[0m\u001b[0;34m\u001b[0m\u001b[0m\n\u001b[0m\u001b[1;32m      8\u001b[0m \u001b[0;34m\u001b[0m\u001b[0m\n\u001b[1;32m      9\u001b[0m \u001b[0mmatch_data_final\u001b[0m \u001b[0;34m=\u001b[0m \u001b[0mcreate_final_set\u001b[0m\u001b[0;34m(\u001b[0m\u001b[0mplayer_per_game\u001b[0m\u001b[0;34m,\u001b[0m \u001b[0mmatch_data\u001b[0m\u001b[0;34m,\u001b[0m \u001b[0mwindow\u001b[0m\u001b[0;34m=\u001b[0m\u001b[0;36m5\u001b[0m\u001b[0;34m)\u001b[0m\u001b[0;34m\u001b[0m\u001b[0;34m\u001b[0m\u001b[0m\n",
            "\u001b[0;32m<ipython-input-3-a51115aefe91>\u001b[0m in \u001b[0;36mget_player_per_game_info\u001b[0;34m(matches)\u001b[0m\n\u001b[1;32m     13\u001b[0m         \u001b[0;32mif\u001b[0m \u001b[0mmatch_nr\u001b[0m \u001b[0;34m%\u001b[0m \u001b[0;36m15\u001b[0m \u001b[0;34m==\u001b[0m \u001b[0;36m0\u001b[0m\u001b[0;34m:\u001b[0m\u001b[0;34m\u001b[0m\u001b[0;34m\u001b[0m\u001b[0m\n\u001b[1;32m     14\u001b[0m             \u001b[0mwait_time\u001b[0m \u001b[0;34m=\u001b[0m \u001b[0mrandom\u001b[0m\u001b[0;34m.\u001b[0m\u001b[0muniform\u001b[0m\u001b[0;34m(\u001b[0m\u001b[0;36m100\u001b[0m\u001b[0;34m,\u001b[0m \u001b[0;36m180\u001b[0m\u001b[0;34m)\u001b[0m\u001b[0;34m\u001b[0m\u001b[0;34m\u001b[0m\u001b[0m\n\u001b[0;32m---> 15\u001b[0;31m             \u001b[0mtime\u001b[0m\u001b[0;34m.\u001b[0m\u001b[0msleep\u001b[0m\u001b[0;34m(\u001b[0m\u001b[0mwait_time\u001b[0m\u001b[0;34m)\u001b[0m\u001b[0;34m\u001b[0m\u001b[0;34m\u001b[0m\u001b[0m\n\u001b[0m\u001b[1;32m     16\u001b[0m \u001b[0;34m\u001b[0m\u001b[0m\n\u001b[1;32m     17\u001b[0m         \u001b[0mresponse\u001b[0m \u001b[0;34m=\u001b[0m \u001b[0mrequests\u001b[0m\u001b[0;34m.\u001b[0m\u001b[0mget\u001b[0m\u001b[0;34m(\u001b[0m\u001b[0mmatch_page_url\u001b[0m\u001b[0;34m)\u001b[0m\u001b[0;34m\u001b[0m\u001b[0;34m\u001b[0m\u001b[0m\n",
            "\u001b[0;31mKeyboardInterrupt\u001b[0m: "
          ]
        }
      ],
      "source": [
        "## Running the code\n",
        "seasons = [[2021, 2022], [2022, 2023], [2023, 2024]]\n",
        "league = 'Bundesliga'\n",
        "\n",
        "match_data = get_matches_in_season(seasons, league)\n",
        "\n",
        "player_per_game = get_player_per_game_info(match_data)\n",
        "\n",
        "match_data_final = create_final_set(player_per_game, match_data, window=5)\n",
        "\n"
      ]
    }
  ],
  "metadata": {
    "colab": {
      "provenance": []
    },
    "kernelspec": {
      "display_name": "Python 3",
      "name": "python3"
    },
    "language_info": {
      "name": "python"
    }
  },
  "nbformat": 4,
  "nbformat_minor": 0
}